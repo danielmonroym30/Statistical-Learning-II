{
  "nbformat": 4,
  "nbformat_minor": 0,
  "metadata": {
    "colab": {
      "name": "Perceptron.ipynb",
      "provenance": []
    },
    "kernelspec": {
      "name": "python3",
      "display_name": "Python 3"
    }
  },
  "cells": [
    {
      "cell_type": "markdown",
      "metadata": {
        "id": "svdYoLQHA0Ti",
        "colab_type": "text"
      },
      "source": [
        "**Entrenamiento Perceptron** - Daniel Conrado Monroy Madrid 16012674\n",
        "\n"
      ]
    },
    {
      "cell_type": "code",
      "metadata": {
        "id": "--3J6LSq-X5v",
        "colab_type": "code",
        "colab": {
          "base_uri": "https://localhost:8080/",
          "height": 122
        },
        "outputId": "d999a500-05b8-4d05-a865-f3114fd51c03"
      },
      "source": [
        "from google.colab import drive\n",
        "drive.mount('/content/drive/',force_remount=True)"
      ],
      "execution_count": 1,
      "outputs": [
        {
          "output_type": "stream",
          "text": [
            "Go to this URL in a browser: https://accounts.google.com/o/oauth2/auth?client_id=947318989803-6bn6qk8qdgf4n4g3pfee6491hc0brc4i.apps.googleusercontent.com&redirect_uri=urn%3Aietf%3Awg%3Aoauth%3A2.0%3Aoob&scope=email%20https%3A%2F%2Fwww.googleapis.com%2Fauth%2Fdocs.test%20https%3A%2F%2Fwww.googleapis.com%2Fauth%2Fdrive%20https%3A%2F%2Fwww.googleapis.com%2Fauth%2Fdrive.photos.readonly%20https%3A%2F%2Fwww.googleapis.com%2Fauth%2Fpeopleapi.readonly&response_type=code\n",
            "\n",
            "Enter your authorization code:\n",
            "··········\n",
            "Mounted at /content/drive/\n"
          ],
          "name": "stdout"
        }
      ]
    },
    {
      "cell_type": "code",
      "metadata": {
        "id": "B6mdzuQABY8w",
        "colab_type": "code",
        "colab": {}
      },
      "source": [
        "import pandas as pd\n",
        "import numpy as np\n",
        "from sklearn.metrics import accuracy_score"
      ],
      "execution_count": 0,
      "outputs": []
    },
    {
      "cell_type": "code",
      "metadata": {
        "id": "9g6P6bv2Py9o",
        "colab_type": "code",
        "colab": {}
      },
      "source": [
        "import matplotlib.pyplot as plt"
      ],
      "execution_count": 0,
      "outputs": []
    },
    {
      "cell_type": "code",
      "metadata": {
        "id": "29W6BgZbBCEp",
        "colab_type": "code",
        "colab": {}
      },
      "source": [
        "def import_data(dataset): #dataset es un string.csv \n",
        "  path = \"/content/drive/My Drive/datasets/\"\n",
        "  file_name = dataset\n",
        "  dataset = pd.read_csv(path+file_name)\n",
        "  return dataset"
      ],
      "execution_count": 0,
      "outputs": []
    },
    {
      "cell_type": "code",
      "metadata": {
        "id": "9mSH1CaSBURf",
        "colab_type": "code",
        "colab": {
          "base_uri": "https://localhost:8080/",
          "height": 204
        },
        "outputId": "692c8227-3d2e-4198-a0b3-7acd493d26bc"
      },
      "source": [
        "data = import_data('data (3).csv')\n",
        "data.head()"
      ],
      "execution_count": 14,
      "outputs": [
        {
          "output_type": "execute_result",
          "data": {
            "text/html": [
              "<div>\n",
              "<style scoped>\n",
              "    .dataframe tbody tr th:only-of-type {\n",
              "        vertical-align: middle;\n",
              "    }\n",
              "\n",
              "    .dataframe tbody tr th {\n",
              "        vertical-align: top;\n",
              "    }\n",
              "\n",
              "    .dataframe thead th {\n",
              "        text-align: right;\n",
              "    }\n",
              "</style>\n",
              "<table border=\"1\" class=\"dataframe\">\n",
              "  <thead>\n",
              "    <tr style=\"text-align: right;\">\n",
              "      <th></th>\n",
              "      <th>x1</th>\n",
              "      <th>x2</th>\n",
              "      <th>label</th>\n",
              "    </tr>\n",
              "  </thead>\n",
              "  <tbody>\n",
              "    <tr>\n",
              "      <th>0</th>\n",
              "      <td>12.882292</td>\n",
              "      <td>10.228199</td>\n",
              "      <td>1</td>\n",
              "    </tr>\n",
              "    <tr>\n",
              "      <th>1</th>\n",
              "      <td>12.682271</td>\n",
              "      <td>9.360462</td>\n",
              "      <td>1</td>\n",
              "    </tr>\n",
              "    <tr>\n",
              "      <th>2</th>\n",
              "      <td>12.104981</td>\n",
              "      <td>10.580729</td>\n",
              "      <td>1</td>\n",
              "    </tr>\n",
              "    <tr>\n",
              "      <th>3</th>\n",
              "      <td>12.473947</td>\n",
              "      <td>10.993459</td>\n",
              "      <td>1</td>\n",
              "    </tr>\n",
              "    <tr>\n",
              "      <th>4</th>\n",
              "      <td>11.997386</td>\n",
              "      <td>9.321291</td>\n",
              "      <td>1</td>\n",
              "    </tr>\n",
              "  </tbody>\n",
              "</table>\n",
              "</div>"
            ],
            "text/plain": [
              "          x1         x2  label\n",
              "0  12.882292  10.228199      1\n",
              "1  12.682271   9.360462      1\n",
              "2  12.104981  10.580729      1\n",
              "3  12.473947  10.993459      1\n",
              "4  11.997386   9.321291      1"
            ]
          },
          "metadata": {
            "tags": []
          },
          "execution_count": 14
        }
      ]
    },
    {
      "cell_type": "code",
      "metadata": {
        "id": "NCSDzC7HBW5S",
        "colab_type": "code",
        "colab": {
          "base_uri": "https://localhost:8080/",
          "height": 204
        },
        "outputId": "6c8a2eed-3c5f-4292-8148-7210893e6a12"
      },
      "source": [
        "#agregar unos para el bias\n",
        "data['Bias'] = np.ones((len(data),1))\n",
        "data.head()"
      ],
      "execution_count": 17,
      "outputs": [
        {
          "output_type": "execute_result",
          "data": {
            "text/html": [
              "<div>\n",
              "<style scoped>\n",
              "    .dataframe tbody tr th:only-of-type {\n",
              "        vertical-align: middle;\n",
              "    }\n",
              "\n",
              "    .dataframe tbody tr th {\n",
              "        vertical-align: top;\n",
              "    }\n",
              "\n",
              "    .dataframe thead th {\n",
              "        text-align: right;\n",
              "    }\n",
              "</style>\n",
              "<table border=\"1\" class=\"dataframe\">\n",
              "  <thead>\n",
              "    <tr style=\"text-align: right;\">\n",
              "      <th></th>\n",
              "      <th>x1</th>\n",
              "      <th>x2</th>\n",
              "      <th>label</th>\n",
              "      <th>Bias</th>\n",
              "    </tr>\n",
              "  </thead>\n",
              "  <tbody>\n",
              "    <tr>\n",
              "      <th>0</th>\n",
              "      <td>12.882292</td>\n",
              "      <td>10.228199</td>\n",
              "      <td>1</td>\n",
              "      <td>1.0</td>\n",
              "    </tr>\n",
              "    <tr>\n",
              "      <th>1</th>\n",
              "      <td>12.682271</td>\n",
              "      <td>9.360462</td>\n",
              "      <td>1</td>\n",
              "      <td>1.0</td>\n",
              "    </tr>\n",
              "    <tr>\n",
              "      <th>2</th>\n",
              "      <td>12.104981</td>\n",
              "      <td>10.580729</td>\n",
              "      <td>1</td>\n",
              "      <td>1.0</td>\n",
              "    </tr>\n",
              "    <tr>\n",
              "      <th>3</th>\n",
              "      <td>12.473947</td>\n",
              "      <td>10.993459</td>\n",
              "      <td>1</td>\n",
              "      <td>1.0</td>\n",
              "    </tr>\n",
              "    <tr>\n",
              "      <th>4</th>\n",
              "      <td>11.997386</td>\n",
              "      <td>9.321291</td>\n",
              "      <td>1</td>\n",
              "      <td>1.0</td>\n",
              "    </tr>\n",
              "  </tbody>\n",
              "</table>\n",
              "</div>"
            ],
            "text/plain": [
              "          x1         x2  label  Bias\n",
              "0  12.882292  10.228199      1   1.0\n",
              "1  12.682271   9.360462      1   1.0\n",
              "2  12.104981  10.580729      1   1.0\n",
              "3  12.473947  10.993459      1   1.0\n",
              "4  11.997386   9.321291      1   1.0"
            ]
          },
          "metadata": {
            "tags": []
          },
          "execution_count": 17
        }
      ]
    },
    {
      "cell_type": "code",
      "metadata": {
        "id": "UUjvIEzvDirC",
        "colab_type": "code",
        "colab": {
          "base_uri": "https://localhost:8080/",
          "height": 51
        },
        "outputId": "b25d75a0-472b-4c8e-e503-bd64a9f24900"
      },
      "source": [
        "X = data[['Bias','x1','x2']].values\n",
        "Y = data['label'].values\n",
        "print('X shape:',X.shape)\n",
        "print('Y shape:',Y.shape)"
      ],
      "execution_count": 23,
      "outputs": [
        {
          "output_type": "stream",
          "text": [
            "X shape: (200, 3)\n",
            "Y shape: (200,)\n"
          ],
          "name": "stdout"
        }
      ]
    },
    {
      "cell_type": "code",
      "metadata": {
        "id": "LWgZllkzLN28",
        "colab_type": "code",
        "colab": {}
      },
      "source": [
        "def pred(y):\n",
        "  return 1 if y >= 0 else 0"
      ],
      "execution_count": 0,
      "outputs": []
    },
    {
      "cell_type": "code",
      "metadata": {
        "id": "MkuRMxl8DtW1",
        "colab_type": "code",
        "colab": {}
      },
      "source": [
        "def perceptron(x,y,lr):\n",
        "  w = np.zeros(x.shape[1])\n",
        "  accuracy = 0\n",
        "  predict = []\n",
        "  labels = []\n",
        "  while(accuracy!=1):\n",
        "    for i in range(len(x)):\n",
        "      if(y[i] == 1 and np.dot(x[i],w) < 0):\n",
        "        w = w + np.multiply(lr,x[i])\n",
        "      elif(y[i] == 0 and np.dot(x[i],w) >= 0):\n",
        "        w = w - np.multiply(lr,x[i])\n",
        "    \n",
        "    prediccion = np.matmul(x,w)\n",
        "    prediction = pd.Series(prediccion)\n",
        "    label = prediction.apply(pred).values\n",
        "    accuracy = accuracy_score(y,label)\n",
        "                   \n",
        "  return w"
      ],
      "execution_count": 0,
      "outputs": []
    },
    {
      "cell_type": "code",
      "metadata": {
        "id": "Nj4DlbTkD7pG",
        "colab_type": "code",
        "colab": {
          "base_uri": "https://localhost:8080/",
          "height": 34
        },
        "outputId": "2633fadf-1499-425d-d93d-fc146a30a87e"
      },
      "source": [
        "pesos = perceptron(X,Y,0.01)\n",
        "pesos"
      ],
      "execution_count": 85,
      "outputs": [
        {
          "output_type": "execute_result",
          "data": {
            "text/plain": [
              "array([-2.        ,  0.44959642, -0.23932565])"
            ]
          },
          "metadata": {
            "tags": []
          },
          "execution_count": 85
        }
      ]
    },
    {
      "cell_type": "code",
      "metadata": {
        "id": "RnL5Ws5NTpiS",
        "colab_type": "code",
        "colab": {}
      },
      "source": [
        "X1 = np.linspace(0,20)\n",
        "def draw_line(x):\n",
        "  return (-(pesos[0]) - pesos[1]*x)/pesos[2]\n",
        "yplot = draw_line(X1)"
      ],
      "execution_count": 0,
      "outputs": []
    },
    {
      "cell_type": "code",
      "metadata": {
        "id": "HyR3zR4NFiU5",
        "colab_type": "code",
        "colab": {
          "base_uri": "https://localhost:8080/",
          "height": 432
        },
        "outputId": "c366da7e-996a-4d99-edba-31361e3d5efc"
      },
      "source": [
        "plt.figure(figsize=(10,7))\n",
        "plt.scatter(data['x1'],data['x2'])\n",
        "plt.plot(X1,yplot,'r-')\n",
        "plt.xlim(0,20)\n",
        "plt.ylim(-15,35)\n",
        "plt.show()"
      ],
      "execution_count": 113,
      "outputs": [
        {
          "output_type": "display_data",
          "data": {
            "image/png": "[encoded data removed]",
            "text/plain": [
              "<Figure size 720x504 with 1 Axes>"
            ]
          },
          "metadata": {
            "tags": []
          }
        }
      ]
    },
    {
      "cell_type": "code",
      "metadata": {
        "id": "sNinLp_gVIYD",
        "colab_type": "code",
        "colab": {}
      },
      "source": [
        ""
      ],
      "execution_count": 0,
      "outputs": []
    }
  ]
}