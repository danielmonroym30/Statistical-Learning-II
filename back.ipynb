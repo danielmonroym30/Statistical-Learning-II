{
  "nbformat": 4,
  "nbformat_minor": 0,
  "metadata": {
    "colab": {
      "name": "back.ipynb",
      "provenance": []
    },
    "kernelspec": {
      "name": "python3",
      "display_name": "Python 3"
    }
  },
  "cells": [
    {
      "cell_type": "code",
      "metadata": {
        "id": "2xzFFZk-sFug",
        "colab_type": "code",
        "colab": {}
      },
      "source": [
        "import numpy as np "
      ],
      "execution_count": 0,
      "outputs": []
    },
    {
      "cell_type": "code",
      "metadata": {
        "id": "xVAOw4qSsMQ8",
        "colab_type": "code",
        "colab": {}
      },
      "source": [
        "data = np.array([[0,0],[0,1],[1,0],[1,1]])\n",
        "real_output = np.array([[0],[1],[1],[0]])"
      ],
      "execution_count": 0,
      "outputs": []
    },
    {
      "cell_type": "code",
      "metadata": {
        "id": "ZlUarQDfsSRX",
        "colab_type": "code",
        "colab": {}
      },
      "source": [
        "pesos_H = np.random.uniform(size=(2,2))\n",
        "bias_H = np.random.uniform(size=(1,2))\n",
        "pesos_out = np.random.uniform(size=(2,1))\n",
        "bias_out = np.random.uniform(size=(1,1))"
      ],
      "execution_count": 0,
      "outputs": []
    },
    {
      "cell_type": "code",
      "metadata": {
        "id": "emufSiS3s_jv",
        "colab_type": "code",
        "colab": {}
      },
      "source": [
        "def sigmoid (x):\n",
        "    return 1/(1 + np.exp(-x))"
      ],
      "execution_count": 0,
      "outputs": []
    },
    {
      "cell_type": "code",
      "metadata": {
        "id": "M3yumGs9uV5e",
        "colab_type": "code",
        "colab": {}
      },
      "source": [
        "def sigmoid_derivada(x):\n",
        "    return x*(1-x)"
      ],
      "execution_count": 0,
      "outputs": []
    },
    {
      "cell_type": "code",
      "metadata": {
        "id": "v7n10c-1yIEG",
        "colab_type": "code",
        "colab": {}
      },
      "source": [
        "lr = 0.1\n",
        "epochs = 1000"
      ],
      "execution_count": 0,
      "outputs": []
    },
    {
      "cell_type": "code",
      "metadata": {
        "id": "KIyGbIUf5-cp",
        "colab_type": "code",
        "colab": {
          "base_uri": "https://localhost:8080/",
          "height": 85
        },
        "outputId": "295633f0-aa47-48e5-d9d2-16d09f79a0ed"
      },
      "source": [
        "for epoch in range(epochs):\n",
        "\th = np.dot(data,pesos_H)\n",
        "\th += bias_H\n",
        "\th_out = sigmoid(h)\n",
        "\n",
        "\toutput = np.dot(h_out,pesos_out)\n",
        "\toutput += bias_out\n",
        "\tprediccion = sigmoid(output)\n",
        "\n",
        "\tcost = real_output - prediccion\n",
        "\tderivada1 = cost * sigmoid_derivada(prediccion)\n",
        "\t\n",
        "\tcost_h = derivada1.dot(pesos_out.T)\n",
        "\tderivada2 = cost_h * sigmoid_derivada(h_out)\n",
        "\n",
        "\t\n",
        "\tpesos_out += h_out.T.dot(derivada1) * lr\n",
        "\tbias_out += np.sum(derivada1,axis=0,keepdims=True) * lr\n",
        "\tpesos_H += data.T.dot(derivada2) * lr\n",
        "\tbias_H += np.sum(derivada2,axis=0,keepdims=True) * lr\n",
        "  \n",
        "print(prediccion)"
      ],
      "execution_count": 36,
      "outputs": [
        {
          "output_type": "stream",
          "text": [
            "[[0.06795436]\n",
            " [0.93612692]\n",
            " [0.93646062]\n",
            " [0.06963586]]\n"
          ],
          "name": "stdout"
        }
      ]
    }
  ]
}