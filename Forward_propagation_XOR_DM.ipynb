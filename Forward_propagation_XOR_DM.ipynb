{
  "nbformat": 4,
  "nbformat_minor": 0,
  "metadata": {
    "colab": {
      "name": "Forward-propagation XOR DM.ipynb",
      "provenance": []
    },
    "kernelspec": {
      "name": "python3",
      "display_name": "Python 3"
    }
  },
  "cells": [
    {
      "cell_type": "markdown",
      "metadata": {
        "id": "aY-ZJHh1oQtl",
        "colab_type": "text"
      },
      "source": [
        "***Forward-propagation Xor*** -  Daniel Conrado Monroy Madrid - 16012674"
      ]
    },
    {
      "cell_type": "code",
      "metadata": {
        "id": "bCr8R6g-7wDx",
        "colab_type": "code",
        "colab": {}
      },
      "source": [
        "import numpy as np \n",
        "import matplotlib.pyplot as plt \n",
        "import pandas as pd"
      ],
      "execution_count": 0,
      "outputs": []
    },
    {
      "cell_type": "code",
      "metadata": {
        "id": "LmUka58W8D3D",
        "colab_type": "code",
        "colab": {
          "base_uri": "https://localhost:8080/",
          "height": 85
        },
        "outputId": "369486cc-3abe-40ad-f92f-36f997683648"
      },
      "source": [
        "inputs = np.array([[0,0],[0,1],[1,0],[1,1]])\n",
        "x1 = np.array([0,0,1,1])\n",
        "x2 = np.array([0,1,0,1])\n",
        "xor = np.array([[0],[1],[1],[0]])\n",
        "inputs"
      ],
      "execution_count": 109,
      "outputs": [
        {
          "output_type": "execute_result",
          "data": {
            "text/plain": [
              "array([[0, 0],\n",
              "       [0, 1],\n",
              "       [1, 0],\n",
              "       [1, 1]])"
            ]
          },
          "metadata": {
            "tags": []
          },
          "execution_count": 109
        }
      ]
    },
    {
      "cell_type": "markdown",
      "metadata": {
        "id": "tHMx3V7QT9Db",
        "colab_type": "text"
      },
      "source": [
        "# Implementación"
      ]
    },
    {
      "cell_type": "code",
      "metadata": {
        "id": "3fiZ4_lR_9te",
        "colab_type": "code",
        "colab": {}
      },
      "source": [
        "h1 = np.dot(20,x1) + np.dot(20,x2) - 10 \n",
        "h2 = np.dot(-20,x1) + np.dot(-20,x2) + 30 "
      ],
      "execution_count": 0,
      "outputs": []
    },
    {
      "cell_type": "code",
      "metadata": {
        "id": "DfbxWAIqBTHu",
        "colab_type": "code",
        "colab": {}
      },
      "source": [
        "def sigmoid (x):\n",
        "    return 1/(1 + np.exp(-x))"
      ],
      "execution_count": 0,
      "outputs": []
    },
    {
      "cell_type": "code",
      "metadata": {
        "id": "rxPQALanBclz",
        "colab_type": "code",
        "colab": {
          "base_uri": "https://localhost:8080/",
          "height": 173
        },
        "outputId": "4e487294-7cbe-45f0-8f12-a614ce9c5cd3"
      },
      "source": [
        "H1 = sigmoid(h1)\n",
        "H2 = sigmoid(h2)\n",
        "h  = np.array([H1,H2])\n",
        "H_df = pd.DataFrame(h.T,columns=['i1','i2'])\n",
        "H_df"
      ],
      "execution_count": 165,
      "outputs": [
        {
          "output_type": "execute_result",
          "data": {
            "text/html": [
              "<div>\n",
              "<style scoped>\n",
              "    .dataframe tbody tr th:only-of-type {\n",
              "        vertical-align: middle;\n",
              "    }\n",
              "\n",
              "    .dataframe tbody tr th {\n",
              "        vertical-align: top;\n",
              "    }\n",
              "\n",
              "    .dataframe thead th {\n",
              "        text-align: right;\n",
              "    }\n",
              "</style>\n",
              "<table border=\"1\" class=\"dataframe\">\n",
              "  <thead>\n",
              "    <tr style=\"text-align: right;\">\n",
              "      <th></th>\n",
              "      <th>i1</th>\n",
              "      <th>i2</th>\n",
              "    </tr>\n",
              "  </thead>\n",
              "  <tbody>\n",
              "    <tr>\n",
              "      <th>0</th>\n",
              "      <td>0.000045</td>\n",
              "      <td>1.000000</td>\n",
              "    </tr>\n",
              "    <tr>\n",
              "      <th>1</th>\n",
              "      <td>0.999955</td>\n",
              "      <td>0.999955</td>\n",
              "    </tr>\n",
              "    <tr>\n",
              "      <th>2</th>\n",
              "      <td>0.999955</td>\n",
              "      <td>0.999955</td>\n",
              "    </tr>\n",
              "    <tr>\n",
              "      <th>3</th>\n",
              "      <td>1.000000</td>\n",
              "      <td>0.000045</td>\n",
              "    </tr>\n",
              "  </tbody>\n",
              "</table>\n",
              "</div>"
            ],
            "text/plain": [
              "         i1        i2\n",
              "0  0.000045  1.000000\n",
              "1  0.999955  0.999955\n",
              "2  0.999955  0.999955\n",
              "3  1.000000  0.000045"
            ]
          },
          "metadata": {
            "tags": []
          },
          "execution_count": 165
        }
      ]
    },
    {
      "cell_type": "code",
      "metadata": {
        "id": "GIu2BrzbByQ2",
        "colab_type": "code",
        "colab": {
          "base_uri": "https://localhost:8080/",
          "height": 173
        },
        "outputId": "0b56a243-355b-4197-ae77-3d4c1ce9385d"
      },
      "source": [
        "yhat = np.dot(20,H1) + np.dot(20,H2) - 30\n",
        "prediccion = sigmoid(yhat)\n",
        "out = pd.DataFrame(prediccion)\n",
        "out #redondeando, se obtiene el output esperado. \n"
      ],
      "execution_count": 151,
      "outputs": [
        {
          "output_type": "execute_result",
          "data": {
            "text/html": [
              "<div>\n",
              "<style scoped>\n",
              "    .dataframe tbody tr th:only-of-type {\n",
              "        vertical-align: middle;\n",
              "    }\n",
              "\n",
              "    .dataframe tbody tr th {\n",
              "        vertical-align: top;\n",
              "    }\n",
              "\n",
              "    .dataframe thead th {\n",
              "        text-align: right;\n",
              "    }\n",
              "</style>\n",
              "<table border=\"1\" class=\"dataframe\">\n",
              "  <thead>\n",
              "    <tr style=\"text-align: right;\">\n",
              "      <th></th>\n",
              "      <th>0</th>\n",
              "    </tr>\n",
              "  </thead>\n",
              "  <tbody>\n",
              "    <tr>\n",
              "      <th>0</th>\n",
              "      <td>0.000045</td>\n",
              "    </tr>\n",
              "    <tr>\n",
              "      <th>1</th>\n",
              "      <td>0.999955</td>\n",
              "    </tr>\n",
              "    <tr>\n",
              "      <th>2</th>\n",
              "      <td>0.999955</td>\n",
              "    </tr>\n",
              "    <tr>\n",
              "      <th>3</th>\n",
              "      <td>0.000045</td>\n",
              "    </tr>\n",
              "  </tbody>\n",
              "</table>\n",
              "</div>"
            ],
            "text/plain": [
              "          0\n",
              "0  0.000045\n",
              "1  0.999955\n",
              "2  0.999955\n",
              "3  0.000045"
            ]
          },
          "metadata": {
            "tags": []
          },
          "execution_count": 151
        }
      ]
    },
    {
      "cell_type": "markdown",
      "metadata": {
        "id": "5_fNPNMcO0Bt",
        "colab_type": "text"
      },
      "source": [
        "XOR original"
      ]
    },
    {
      "cell_type": "code",
      "metadata": {
        "id": "iMFLrXQtCWO0",
        "colab_type": "code",
        "colab": {
          "base_uri": "https://localhost:8080/",
          "height": 269
        },
        "outputId": "8605326d-6f8b-49d1-809c-46beecf6074f"
      },
      "source": [
        "plt.scatter(x1[1:3],x2[1:3],marker=\"v\") #Xor original\n",
        "plt.legend(['y = 1'],loc='center')\n",
        "plt.scatter(np.array([0,1]),np.array([0,1]),marker=\"*\")\n",
        "plt.legend(['y = 1','y = 0'],loc='center')\n",
        "plt.show()"
      ],
      "execution_count": 78,
      "outputs": [
        {
          "output_type": "display_data",
          "data": {
            "image/png": "[encoded data removed]",
            "text/plain": [
              "<Figure size 432x288 with 1 Axes>"
            ]
          },
          "metadata": {
            "tags": []
          }
        }
      ]
    },
    {
      "cell_type": "markdown",
      "metadata": {
        "id": "uA_NPgv_m8Mo",
        "colab_type": "text"
      },
      "source": [
        "Capa intermedia"
      ]
    },
    {
      "cell_type": "code",
      "metadata": {
        "id": "cCEIFtScG4Ef",
        "colab_type": "code",
        "colab": {
          "base_uri": "https://localhost:8080/",
          "height": 269
        },
        "outputId": "426df7f1-1362-4cfc-e72b-4e3d7cb7e0be"
      },
      "source": [
        "plt.scatter(H_df.iloc[1:3,0],H_df.iloc[1:3,1],marker='v')\n",
        "plt.scatter(np.array([0.000045,1.000000]),np.array([1.000000,0.000045]))\n",
        "plt.legend(['y = 1','y = 0'],loc='center')\n",
        "plt.show()"
      ],
      "execution_count": 171,
      "outputs": [
        {
          "output_type": "display_data",
          "data": {
            "image/png": "[encoded data removed]",
            "text/plain": [
              "<Figure size 432x288 with 1 Axes>"
            ]
          },
          "metadata": {
            "tags": []
          }
        }
      ]
    },
    {
      "cell_type": "markdown",
      "metadata": {
        "id": "UM8D7blXnJ7q",
        "colab_type": "text"
      },
      "source": [
        "Como se puede observar, las gráficas son distintas. En este caso, para que el resultado sea 1 ambas entradas deben ser 1 (1 y 1). Lo contrario el resultado es 0. Ambos nodos en la capa realizan operaciones distintas. "
      ]
    }
  ]
}