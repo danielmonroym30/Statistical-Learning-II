{
 "cells": [
  {
   "cell_type": "markdown",
   "metadata": {},
   "source": [
    "## Maldición de dimensionalidad y polynomial features"
   ]
  },
  {
   "cell_type": "markdown",
   "metadata": {},
   "source": [
    "Daniel Conrado Monroy Madrid - 16012674"
   ]
  },
  {
   "cell_type": "code",
   "execution_count": 2,
   "metadata": {},
   "outputs": [],
   "source": [
    "import numpy as np"
   ]
  },
  {
   "cell_type": "code",
   "execution_count": 2,
   "metadata": {},
   "outputs": [],
   "source": [
    "from sklearn.preprocessing import PolynomialFeatures"
   ]
  },
  {
   "cell_type": "code",
   "execution_count": 9,
   "metadata": {},
   "outputs": [],
   "source": [
    "import pandas as pd"
   ]
  },
  {
   "cell_type": "markdown",
   "metadata": {},
   "source": [
    "## 1 variable "
   ]
  },
  {
   "cell_type": "code",
   "execution_count": 3,
   "metadata": {},
   "outputs": [
    {
     "data": {
      "text/plain": [
       "array([[0.42276015],\n",
       "       [0.70187944],\n",
       "       [0.64348306],\n",
       "       [0.2692361 ],\n",
       "       [0.51479029]])"
      ]
     },
     "execution_count": 3,
     "metadata": {},
     "output_type": "execute_result"
    }
   ],
   "source": [
    "x1 = np.random.rand(5,1)\n",
    "x1"
   ]
  },
  {
   "cell_type": "code",
   "execution_count": 13,
   "metadata": {},
   "outputs": [
    {
     "data": {
      "text/html": [
       "<div>\n",
       "<style scoped>\n",
       "    .dataframe tbody tr th:only-of-type {\n",
       "        vertical-align: middle;\n",
       "    }\n",
       "\n",
       "    .dataframe tbody tr th {\n",
       "        vertical-align: top;\n",
       "    }\n",
       "\n",
       "    .dataframe thead th {\n",
       "        text-align: right;\n",
       "    }\n",
       "</style>\n",
       "<table border=\"1\" class=\"dataframe\">\n",
       "  <thead>\n",
       "    <tr style=\"text-align: right;\">\n",
       "      <th></th>\n",
       "      <th>0</th>\n",
       "      <th>1</th>\n",
       "      <th>2</th>\n",
       "      <th>3</th>\n",
       "    </tr>\n",
       "  </thead>\n",
       "  <tbody>\n",
       "    <tr>\n",
       "      <th>0</th>\n",
       "      <td>1.0</td>\n",
       "      <td>0.422760</td>\n",
       "      <td>0.178726</td>\n",
       "      <td>0.075558</td>\n",
       "    </tr>\n",
       "    <tr>\n",
       "      <th>1</th>\n",
       "      <td>1.0</td>\n",
       "      <td>0.701879</td>\n",
       "      <td>0.492635</td>\n",
       "      <td>0.345770</td>\n",
       "    </tr>\n",
       "    <tr>\n",
       "      <th>2</th>\n",
       "      <td>1.0</td>\n",
       "      <td>0.643483</td>\n",
       "      <td>0.414070</td>\n",
       "      <td>0.266447</td>\n",
       "    </tr>\n",
       "    <tr>\n",
       "      <th>3</th>\n",
       "      <td>1.0</td>\n",
       "      <td>0.269236</td>\n",
       "      <td>0.072488</td>\n",
       "      <td>0.019516</td>\n",
       "    </tr>\n",
       "    <tr>\n",
       "      <th>4</th>\n",
       "      <td>1.0</td>\n",
       "      <td>0.514790</td>\n",
       "      <td>0.265009</td>\n",
       "      <td>0.136424</td>\n",
       "    </tr>\n",
       "  </tbody>\n",
       "</table>\n",
       "</div>"
      ],
      "text/plain": [
       "     0         1         2         3\n",
       "0  1.0  0.422760  0.178726  0.075558\n",
       "1  1.0  0.701879  0.492635  0.345770\n",
       "2  1.0  0.643483  0.414070  0.266447\n",
       "3  1.0  0.269236  0.072488  0.019516\n",
       "4  1.0  0.514790  0.265009  0.136424"
      ]
     },
     "execution_count": 13,
     "metadata": {},
     "output_type": "execute_result"
    }
   ],
   "source": [
    "poly1 = PolynomialFeatures(3)\n",
    "pd.DataFrame(poly1.fit_transform(x1))"
   ]
  },
  {
   "cell_type": "markdown",
   "metadata": {},
   "source": [
    "## 2 variables"
   ]
  },
  {
   "cell_type": "code",
   "execution_count": 7,
   "metadata": {},
   "outputs": [
    {
     "data": {
      "text/plain": [
       "array([[0.14958004, 0.04066589],\n",
       "       [0.90255265, 0.54705627],\n",
       "       [0.80468902, 0.86393601],\n",
       "       [0.17605617, 0.66835398],\n",
       "       [0.65669448, 0.85120369]])"
      ]
     },
     "execution_count": 7,
     "metadata": {},
     "output_type": "execute_result"
    }
   ],
   "source": [
    "x2 = np.random.rand(5,2)\n",
    "x2"
   ]
  },
  {
   "cell_type": "code",
   "execution_count": 14,
   "metadata": {},
   "outputs": [
    {
     "data": {
      "text/html": [
       "<div>\n",
       "<style scoped>\n",
       "    .dataframe tbody tr th:only-of-type {\n",
       "        vertical-align: middle;\n",
       "    }\n",
       "\n",
       "    .dataframe tbody tr th {\n",
       "        vertical-align: top;\n",
       "    }\n",
       "\n",
       "    .dataframe thead th {\n",
       "        text-align: right;\n",
       "    }\n",
       "</style>\n",
       "<table border=\"1\" class=\"dataframe\">\n",
       "  <thead>\n",
       "    <tr style=\"text-align: right;\">\n",
       "      <th></th>\n",
       "      <th>0</th>\n",
       "      <th>1</th>\n",
       "      <th>2</th>\n",
       "      <th>3</th>\n",
       "      <th>4</th>\n",
       "      <th>5</th>\n",
       "      <th>6</th>\n",
       "      <th>7</th>\n",
       "      <th>8</th>\n",
       "      <th>9</th>\n",
       "    </tr>\n",
       "  </thead>\n",
       "  <tbody>\n",
       "    <tr>\n",
       "      <th>0</th>\n",
       "      <td>1.0</td>\n",
       "      <td>0.149580</td>\n",
       "      <td>0.040666</td>\n",
       "      <td>0.022374</td>\n",
       "      <td>0.006083</td>\n",
       "      <td>0.001654</td>\n",
       "      <td>0.003347</td>\n",
       "      <td>0.000910</td>\n",
       "      <td>0.000247</td>\n",
       "      <td>0.000067</td>\n",
       "    </tr>\n",
       "    <tr>\n",
       "      <th>1</th>\n",
       "      <td>1.0</td>\n",
       "      <td>0.902553</td>\n",
       "      <td>0.547056</td>\n",
       "      <td>0.814601</td>\n",
       "      <td>0.493747</td>\n",
       "      <td>0.299271</td>\n",
       "      <td>0.735221</td>\n",
       "      <td>0.445633</td>\n",
       "      <td>0.270107</td>\n",
       "      <td>0.163718</td>\n",
       "    </tr>\n",
       "    <tr>\n",
       "      <th>2</th>\n",
       "      <td>1.0</td>\n",
       "      <td>0.804689</td>\n",
       "      <td>0.863936</td>\n",
       "      <td>0.647524</td>\n",
       "      <td>0.695200</td>\n",
       "      <td>0.746385</td>\n",
       "      <td>0.521056</td>\n",
       "      <td>0.559420</td>\n",
       "      <td>0.600608</td>\n",
       "      <td>0.644829</td>\n",
       "    </tr>\n",
       "    <tr>\n",
       "      <th>3</th>\n",
       "      <td>1.0</td>\n",
       "      <td>0.176056</td>\n",
       "      <td>0.668354</td>\n",
       "      <td>0.030996</td>\n",
       "      <td>0.117668</td>\n",
       "      <td>0.446697</td>\n",
       "      <td>0.005457</td>\n",
       "      <td>0.020716</td>\n",
       "      <td>0.078644</td>\n",
       "      <td>0.298552</td>\n",
       "    </tr>\n",
       "    <tr>\n",
       "      <th>4</th>\n",
       "      <td>1.0</td>\n",
       "      <td>0.656694</td>\n",
       "      <td>0.851204</td>\n",
       "      <td>0.431248</td>\n",
       "      <td>0.558981</td>\n",
       "      <td>0.724548</td>\n",
       "      <td>0.283198</td>\n",
       "      <td>0.367080</td>\n",
       "      <td>0.475806</td>\n",
       "      <td>0.616738</td>\n",
       "    </tr>\n",
       "  </tbody>\n",
       "</table>\n",
       "</div>"
      ],
      "text/plain": [
       "     0         1         2         3         4         5         6         7  \\\n",
       "0  1.0  0.149580  0.040666  0.022374  0.006083  0.001654  0.003347  0.000910   \n",
       "1  1.0  0.902553  0.547056  0.814601  0.493747  0.299271  0.735221  0.445633   \n",
       "2  1.0  0.804689  0.863936  0.647524  0.695200  0.746385  0.521056  0.559420   \n",
       "3  1.0  0.176056  0.668354  0.030996  0.117668  0.446697  0.005457  0.020716   \n",
       "4  1.0  0.656694  0.851204  0.431248  0.558981  0.724548  0.283198  0.367080   \n",
       "\n",
       "          8         9  \n",
       "0  0.000247  0.000067  \n",
       "1  0.270107  0.163718  \n",
       "2  0.600608  0.644829  \n",
       "3  0.078644  0.298552  \n",
       "4  0.475806  0.616738  "
      ]
     },
     "execution_count": 14,
     "metadata": {},
     "output_type": "execute_result"
    }
   ],
   "source": [
    "poly2 = PolynomialFeatures(3)\n",
    "pd.DataFrame(poly2.fit_transform(x2))"
   ]
  },
  {
   "cell_type": "markdown",
   "metadata": {},
   "source": [
    "## 3 variables"
   ]
  },
  {
   "cell_type": "code",
   "execution_count": 15,
   "metadata": {},
   "outputs": [
    {
     "data": {
      "text/plain": [
       "array([[0.50191855, 0.40023041, 0.27562085],\n",
       "       [0.88985429, 0.28877472, 0.07215165],\n",
       "       [0.5687203 , 0.84231695, 0.42931525],\n",
       "       [0.53589686, 0.34644651, 0.13311114],\n",
       "       [0.21613572, 0.09920779, 0.55527131]])"
      ]
     },
     "execution_count": 15,
     "metadata": {},
     "output_type": "execute_result"
    }
   ],
   "source": [
    "x3 = np.random.rand(5,3)\n",
    "x3"
   ]
  },
  {
   "cell_type": "code",
   "execution_count": 16,
   "metadata": {},
   "outputs": [
    {
     "data": {
      "text/html": [
       "<div>\n",
       "<style scoped>\n",
       "    .dataframe tbody tr th:only-of-type {\n",
       "        vertical-align: middle;\n",
       "    }\n",
       "\n",
       "    .dataframe tbody tr th {\n",
       "        vertical-align: top;\n",
       "    }\n",
       "\n",
       "    .dataframe thead th {\n",
       "        text-align: right;\n",
       "    }\n",
       "</style>\n",
       "<table border=\"1\" class=\"dataframe\">\n",
       "  <thead>\n",
       "    <tr style=\"text-align: right;\">\n",
       "      <th></th>\n",
       "      <th>0</th>\n",
       "      <th>1</th>\n",
       "      <th>2</th>\n",
       "      <th>3</th>\n",
       "      <th>4</th>\n",
       "      <th>5</th>\n",
       "      <th>6</th>\n",
       "      <th>7</th>\n",
       "      <th>8</th>\n",
       "      <th>9</th>\n",
       "      <th>10</th>\n",
       "      <th>11</th>\n",
       "      <th>12</th>\n",
       "      <th>13</th>\n",
       "      <th>14</th>\n",
       "      <th>15</th>\n",
       "      <th>16</th>\n",
       "      <th>17</th>\n",
       "      <th>18</th>\n",
       "      <th>19</th>\n",
       "    </tr>\n",
       "  </thead>\n",
       "  <tbody>\n",
       "    <tr>\n",
       "      <th>0</th>\n",
       "      <td>1.0</td>\n",
       "      <td>0.501919</td>\n",
       "      <td>0.400230</td>\n",
       "      <td>0.275621</td>\n",
       "      <td>0.251922</td>\n",
       "      <td>0.200883</td>\n",
       "      <td>0.138339</td>\n",
       "      <td>0.160184</td>\n",
       "      <td>0.110312</td>\n",
       "      <td>0.075967</td>\n",
       "      <td>0.126444</td>\n",
       "      <td>0.100827</td>\n",
       "      <td>0.069435</td>\n",
       "      <td>0.080400</td>\n",
       "      <td>0.055368</td>\n",
       "      <td>0.038129</td>\n",
       "      <td>0.064111</td>\n",
       "      <td>0.044150</td>\n",
       "      <td>0.030404</td>\n",
       "      <td>0.020938</td>\n",
       "    </tr>\n",
       "    <tr>\n",
       "      <th>1</th>\n",
       "      <td>1.0</td>\n",
       "      <td>0.889854</td>\n",
       "      <td>0.288775</td>\n",
       "      <td>0.072152</td>\n",
       "      <td>0.791841</td>\n",
       "      <td>0.256967</td>\n",
       "      <td>0.064204</td>\n",
       "      <td>0.083391</td>\n",
       "      <td>0.020836</td>\n",
       "      <td>0.005206</td>\n",
       "      <td>0.704623</td>\n",
       "      <td>0.228664</td>\n",
       "      <td>0.057133</td>\n",
       "      <td>0.074206</td>\n",
       "      <td>0.018541</td>\n",
       "      <td>0.004632</td>\n",
       "      <td>0.024081</td>\n",
       "      <td>0.006017</td>\n",
       "      <td>0.001503</td>\n",
       "      <td>0.000376</td>\n",
       "    </tr>\n",
       "    <tr>\n",
       "      <th>2</th>\n",
       "      <td>1.0</td>\n",
       "      <td>0.568720</td>\n",
       "      <td>0.842317</td>\n",
       "      <td>0.429315</td>\n",
       "      <td>0.323443</td>\n",
       "      <td>0.479043</td>\n",
       "      <td>0.244160</td>\n",
       "      <td>0.709498</td>\n",
       "      <td>0.361620</td>\n",
       "      <td>0.184312</td>\n",
       "      <td>0.183948</td>\n",
       "      <td>0.272441</td>\n",
       "      <td>0.138859</td>\n",
       "      <td>0.403506</td>\n",
       "      <td>0.205660</td>\n",
       "      <td>0.104822</td>\n",
       "      <td>0.597622</td>\n",
       "      <td>0.304598</td>\n",
       "      <td>0.155249</td>\n",
       "      <td>0.079128</td>\n",
       "    </tr>\n",
       "    <tr>\n",
       "      <th>3</th>\n",
       "      <td>1.0</td>\n",
       "      <td>0.535897</td>\n",
       "      <td>0.346447</td>\n",
       "      <td>0.133111</td>\n",
       "      <td>0.287185</td>\n",
       "      <td>0.185660</td>\n",
       "      <td>0.071334</td>\n",
       "      <td>0.120025</td>\n",
       "      <td>0.046116</td>\n",
       "      <td>0.017719</td>\n",
       "      <td>0.153902</td>\n",
       "      <td>0.099494</td>\n",
       "      <td>0.038228</td>\n",
       "      <td>0.064321</td>\n",
       "      <td>0.024713</td>\n",
       "      <td>0.009495</td>\n",
       "      <td>0.041582</td>\n",
       "      <td>0.015977</td>\n",
       "      <td>0.006139</td>\n",
       "      <td>0.002359</td>\n",
       "    </tr>\n",
       "    <tr>\n",
       "      <th>4</th>\n",
       "      <td>1.0</td>\n",
       "      <td>0.216136</td>\n",
       "      <td>0.099208</td>\n",
       "      <td>0.555271</td>\n",
       "      <td>0.046715</td>\n",
       "      <td>0.021442</td>\n",
       "      <td>0.120014</td>\n",
       "      <td>0.009842</td>\n",
       "      <td>0.055087</td>\n",
       "      <td>0.308326</td>\n",
       "      <td>0.010097</td>\n",
       "      <td>0.004634</td>\n",
       "      <td>0.025939</td>\n",
       "      <td>0.002127</td>\n",
       "      <td>0.011906</td>\n",
       "      <td>0.066640</td>\n",
       "      <td>0.000976</td>\n",
       "      <td>0.005465</td>\n",
       "      <td>0.030588</td>\n",
       "      <td>0.171205</td>\n",
       "    </tr>\n",
       "  </tbody>\n",
       "</table>\n",
       "</div>"
      ],
      "text/plain": [
       "    0         1         2         3         4         5         6         7   \\\n",
       "0  1.0  0.501919  0.400230  0.275621  0.251922  0.200883  0.138339  0.160184   \n",
       "1  1.0  0.889854  0.288775  0.072152  0.791841  0.256967  0.064204  0.083391   \n",
       "2  1.0  0.568720  0.842317  0.429315  0.323443  0.479043  0.244160  0.709498   \n",
       "3  1.0  0.535897  0.346447  0.133111  0.287185  0.185660  0.071334  0.120025   \n",
       "4  1.0  0.216136  0.099208  0.555271  0.046715  0.021442  0.120014  0.009842   \n",
       "\n",
       "         8         9         10        11        12        13        14  \\\n",
       "0  0.110312  0.075967  0.126444  0.100827  0.069435  0.080400  0.055368   \n",
       "1  0.020836  0.005206  0.704623  0.228664  0.057133  0.074206  0.018541   \n",
       "2  0.361620  0.184312  0.183948  0.272441  0.138859  0.403506  0.205660   \n",
       "3  0.046116  0.017719  0.153902  0.099494  0.038228  0.064321  0.024713   \n",
       "4  0.055087  0.308326  0.010097  0.004634  0.025939  0.002127  0.011906   \n",
       "\n",
       "         15        16        17        18        19  \n",
       "0  0.038129  0.064111  0.044150  0.030404  0.020938  \n",
       "1  0.004632  0.024081  0.006017  0.001503  0.000376  \n",
       "2  0.104822  0.597622  0.304598  0.155249  0.079128  \n",
       "3  0.009495  0.041582  0.015977  0.006139  0.002359  \n",
       "4  0.066640  0.000976  0.005465  0.030588  0.171205  "
      ]
     },
     "execution_count": 16,
     "metadata": {},
     "output_type": "execute_result"
    }
   ],
   "source": [
    "poly3 = PolynomialFeatures(3)\n",
    "pd.DataFrame(poly3.fit_transform(x3))"
   ]
  },
  {
   "cell_type": "markdown",
   "metadata": {},
   "source": [
    "## Conclusiones"
   ]
  },
  {
   "cell_type": "markdown",
   "metadata": {},
   "source": [
    "A medida que aumenta la cantidad de features, la cantidad de combinaciones también lo hace. Esto se puede confirmar observando la cantidad de columnas que adquiere el dataframe:"
   ]
  },
  {
   "cell_type": "code",
   "execution_count": 21,
   "metadata": {},
   "outputs": [
    {
     "name": "stdout",
     "output_type": "stream",
     "text": [
      "Combinaciones 1 variable: 4\n",
      "Combinaciones 2 variables: 10\n",
      "Combinaciones 3 variables: 20\n"
     ]
    }
   ],
   "source": [
    "print('Combinaciones 1 variable:',np.shape(pd.DataFrame(poly1.fit_transform(x1)))[1])\n",
    "print('Combinaciones 2 variables:',np.shape(pd.DataFrame(poly2.fit_transform(x2)))[1])\n",
    "print('Combinaciones 3 variables:',np.shape(pd.DataFrame(poly3.fit_transform(x3)))[1])"
   ]
  }
 ],
 "metadata": {
  "kernelspec": {
   "display_name": "Python 3",
   "language": "python",
   "name": "python3"
  },
  "language_info": {
   "codemirror_mode": {
    "name": "ipython",
    "version": 3
   },
   "file_extension": ".py",
   "mimetype": "text/x-python",
   "name": "python",
   "nbconvert_exporter": "python",
   "pygments_lexer": "ipython3",
   "version": "3.7.1"
  }
 },
 "nbformat": 4,
 "nbformat_minor": 2
}
